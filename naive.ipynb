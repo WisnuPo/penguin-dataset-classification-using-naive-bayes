{
 "cells": [
  {
   "cell_type": "markdown",
   "metadata": {},
   "source": [
    "# **Naive Bayes Classifier Project**\n",
    "\n",
    "##### This project will create a simple Naive Bayes model that will classify penguins as male or female based on existing variables. I downloaded the dataset from the following link https://www.kaggle.com/datasets/youssefaboelwafa/clustering-penguins-species."
   ]
  },
  {
   "cell_type": "code",
   "execution_count": 1,
   "metadata": {},
   "outputs": [],
   "source": [
    "# import library\n",
    "import pandas as pd\n",
    "import numpy as np\n",
    "import matplotlib.pyplot as plt\n",
    "from sklearn.naive_bayes import GaussianNB\n",
    "from sklearn.model_selection import train_test_split\n",
    "from sklearn.preprocessing import MinMaxScaler"
   ]
  },
  {
   "cell_type": "code",
   "execution_count": 2,
   "metadata": {},
   "outputs": [
    {
     "data": {
      "text/html": [
       "<div>\n",
       "<style scoped>\n",
       "    .dataframe tbody tr th:only-of-type {\n",
       "        vertical-align: middle;\n",
       "    }\n",
       "\n",
       "    .dataframe tbody tr th {\n",
       "        vertical-align: top;\n",
       "    }\n",
       "\n",
       "    .dataframe thead th {\n",
       "        text-align: right;\n",
       "    }\n",
       "</style>\n",
       "<table border=\"1\" class=\"dataframe\">\n",
       "  <thead>\n",
       "    <tr style=\"text-align: right;\">\n",
       "      <th></th>\n",
       "      <th>culmen_length_mm</th>\n",
       "      <th>culmen_depth_mm</th>\n",
       "      <th>flipper_length_mm</th>\n",
       "      <th>body_mass_g</th>\n",
       "      <th>sex</th>\n",
       "    </tr>\n",
       "  </thead>\n",
       "  <tbody>\n",
       "    <tr>\n",
       "      <th>0</th>\n",
       "      <td>39.1</td>\n",
       "      <td>18.7</td>\n",
       "      <td>181.0</td>\n",
       "      <td>3750.0</td>\n",
       "      <td>MALE</td>\n",
       "    </tr>\n",
       "    <tr>\n",
       "      <th>1</th>\n",
       "      <td>39.5</td>\n",
       "      <td>17.4</td>\n",
       "      <td>186.0</td>\n",
       "      <td>3800.0</td>\n",
       "      <td>FEMALE</td>\n",
       "    </tr>\n",
       "    <tr>\n",
       "      <th>2</th>\n",
       "      <td>40.3</td>\n",
       "      <td>18.0</td>\n",
       "      <td>195.0</td>\n",
       "      <td>3250.0</td>\n",
       "      <td>FEMALE</td>\n",
       "    </tr>\n",
       "    <tr>\n",
       "      <th>3</th>\n",
       "      <td>NaN</td>\n",
       "      <td>NaN</td>\n",
       "      <td>NaN</td>\n",
       "      <td>NaN</td>\n",
       "      <td>NaN</td>\n",
       "    </tr>\n",
       "    <tr>\n",
       "      <th>4</th>\n",
       "      <td>36.7</td>\n",
       "      <td>19.3</td>\n",
       "      <td>193.0</td>\n",
       "      <td>3450.0</td>\n",
       "      <td>FEMALE</td>\n",
       "    </tr>\n",
       "    <tr>\n",
       "      <th>...</th>\n",
       "      <td>...</td>\n",
       "      <td>...</td>\n",
       "      <td>...</td>\n",
       "      <td>...</td>\n",
       "      <td>...</td>\n",
       "    </tr>\n",
       "    <tr>\n",
       "      <th>339</th>\n",
       "      <td>NaN</td>\n",
       "      <td>NaN</td>\n",
       "      <td>NaN</td>\n",
       "      <td>NaN</td>\n",
       "      <td>NaN</td>\n",
       "    </tr>\n",
       "    <tr>\n",
       "      <th>340</th>\n",
       "      <td>46.8</td>\n",
       "      <td>14.3</td>\n",
       "      <td>215.0</td>\n",
       "      <td>4850.0</td>\n",
       "      <td>FEMALE</td>\n",
       "    </tr>\n",
       "    <tr>\n",
       "      <th>341</th>\n",
       "      <td>50.4</td>\n",
       "      <td>15.7</td>\n",
       "      <td>222.0</td>\n",
       "      <td>5750.0</td>\n",
       "      <td>MALE</td>\n",
       "    </tr>\n",
       "    <tr>\n",
       "      <th>342</th>\n",
       "      <td>45.2</td>\n",
       "      <td>14.8</td>\n",
       "      <td>212.0</td>\n",
       "      <td>5200.0</td>\n",
       "      <td>FEMALE</td>\n",
       "    </tr>\n",
       "    <tr>\n",
       "      <th>343</th>\n",
       "      <td>49.9</td>\n",
       "      <td>16.1</td>\n",
       "      <td>213.0</td>\n",
       "      <td>5400.0</td>\n",
       "      <td>MALE</td>\n",
       "    </tr>\n",
       "  </tbody>\n",
       "</table>\n",
       "<p>344 rows × 5 columns</p>\n",
       "</div>"
      ],
      "text/plain": [
       "     culmen_length_mm  culmen_depth_mm  flipper_length_mm  body_mass_g     sex\n",
       "0                39.1             18.7              181.0       3750.0    MALE\n",
       "1                39.5             17.4              186.0       3800.0  FEMALE\n",
       "2                40.3             18.0              195.0       3250.0  FEMALE\n",
       "3                 NaN              NaN                NaN          NaN     NaN\n",
       "4                36.7             19.3              193.0       3450.0  FEMALE\n",
       "..                ...              ...                ...          ...     ...\n",
       "339               NaN              NaN                NaN          NaN     NaN\n",
       "340              46.8             14.3              215.0       4850.0  FEMALE\n",
       "341              50.4             15.7              222.0       5750.0    MALE\n",
       "342              45.2             14.8              212.0       5200.0  FEMALE\n",
       "343              49.9             16.1              213.0       5400.0    MALE\n",
       "\n",
       "[344 rows x 5 columns]"
      ]
     },
     "execution_count": 2,
     "metadata": {},
     "output_type": "execute_result"
    }
   ],
   "source": [
    "# import data\n",
    "df = pd.read_csv('penguins.csv')\n",
    "df"
   ]
  },
  {
   "cell_type": "code",
   "execution_count": 16,
   "metadata": {},
   "outputs": [
    {
     "data": {
      "text/plain": [
       "culmen_length_mm     float64\n",
       "culmen_depth_mm      float64\n",
       "flipper_length_mm    float64\n",
       "body_mass_g          float64\n",
       "sex                   object\n",
       "dtype: object"
      ]
     },
     "execution_count": 16,
     "metadata": {},
     "output_type": "execute_result"
    }
   ],
   "source": [
    "# check data types\n",
    "df.dtypes"
   ]
  },
  {
   "cell_type": "code",
   "execution_count": 4,
   "metadata": {},
   "outputs": [
    {
     "data": {
      "text/plain": [
       "culmen_length_mm     2\n",
       "culmen_depth_mm      2\n",
       "flipper_length_mm    2\n",
       "body_mass_g          2\n",
       "sex                  9\n",
       "dtype: int64"
      ]
     },
     "execution_count": 4,
     "metadata": {},
     "output_type": "execute_result"
    }
   ],
   "source": [
    "# check missing value\n",
    "df.isnull().sum()"
   ]
  },
  {
   "cell_type": "code",
   "execution_count": 5,
   "metadata": {},
   "outputs": [
    {
     "data": {
      "text/plain": [
       "culmen_length_mm     0\n",
       "culmen_depth_mm      0\n",
       "flipper_length_mm    0\n",
       "body_mass_g          0\n",
       "sex                  0\n",
       "dtype: int64"
      ]
     },
     "execution_count": 5,
     "metadata": {},
     "output_type": "execute_result"
    }
   ],
   "source": [
    "# drop missing value\n",
    "df.dropna(inplace=True)\n",
    "df.isnull().sum()"
   ]
  },
  {
   "cell_type": "code",
   "execution_count": 6,
   "metadata": {},
   "outputs": [
    {
     "data": {
      "text/html": [
       "<div>\n",
       "<style scoped>\n",
       "    .dataframe tbody tr th:only-of-type {\n",
       "        vertical-align: middle;\n",
       "    }\n",
       "\n",
       "    .dataframe tbody tr th {\n",
       "        vertical-align: top;\n",
       "    }\n",
       "\n",
       "    .dataframe thead th {\n",
       "        text-align: right;\n",
       "    }\n",
       "</style>\n",
       "<table border=\"1\" class=\"dataframe\">\n",
       "  <thead>\n",
       "    <tr style=\"text-align: right;\">\n",
       "      <th></th>\n",
       "      <th>culmen_length_mm</th>\n",
       "      <th>culmen_depth_mm</th>\n",
       "      <th>flipper_length_mm</th>\n",
       "      <th>body_mass_g</th>\n",
       "      <th>sex</th>\n",
       "    </tr>\n",
       "  </thead>\n",
       "  <tbody>\n",
       "    <tr>\n",
       "      <th>0</th>\n",
       "      <td>39.1</td>\n",
       "      <td>18.7</td>\n",
       "      <td>181.0</td>\n",
       "      <td>3750.0</td>\n",
       "      <td>MALE</td>\n",
       "    </tr>\n",
       "    <tr>\n",
       "      <th>1</th>\n",
       "      <td>39.5</td>\n",
       "      <td>17.4</td>\n",
       "      <td>186.0</td>\n",
       "      <td>3800.0</td>\n",
       "      <td>FEMALE</td>\n",
       "    </tr>\n",
       "    <tr>\n",
       "      <th>2</th>\n",
       "      <td>40.3</td>\n",
       "      <td>18.0</td>\n",
       "      <td>195.0</td>\n",
       "      <td>3250.0</td>\n",
       "      <td>FEMALE</td>\n",
       "    </tr>\n",
       "    <tr>\n",
       "      <th>4</th>\n",
       "      <td>36.7</td>\n",
       "      <td>19.3</td>\n",
       "      <td>193.0</td>\n",
       "      <td>3450.0</td>\n",
       "      <td>FEMALE</td>\n",
       "    </tr>\n",
       "    <tr>\n",
       "      <th>5</th>\n",
       "      <td>39.3</td>\n",
       "      <td>20.6</td>\n",
       "      <td>190.0</td>\n",
       "      <td>3650.0</td>\n",
       "      <td>MALE</td>\n",
       "    </tr>\n",
       "    <tr>\n",
       "      <th>...</th>\n",
       "      <td>...</td>\n",
       "      <td>...</td>\n",
       "      <td>...</td>\n",
       "      <td>...</td>\n",
       "      <td>...</td>\n",
       "    </tr>\n",
       "    <tr>\n",
       "      <th>338</th>\n",
       "      <td>47.2</td>\n",
       "      <td>13.7</td>\n",
       "      <td>214.0</td>\n",
       "      <td>4925.0</td>\n",
       "      <td>FEMALE</td>\n",
       "    </tr>\n",
       "    <tr>\n",
       "      <th>340</th>\n",
       "      <td>46.8</td>\n",
       "      <td>14.3</td>\n",
       "      <td>215.0</td>\n",
       "      <td>4850.0</td>\n",
       "      <td>FEMALE</td>\n",
       "    </tr>\n",
       "    <tr>\n",
       "      <th>341</th>\n",
       "      <td>50.4</td>\n",
       "      <td>15.7</td>\n",
       "      <td>222.0</td>\n",
       "      <td>5750.0</td>\n",
       "      <td>MALE</td>\n",
       "    </tr>\n",
       "    <tr>\n",
       "      <th>342</th>\n",
       "      <td>45.2</td>\n",
       "      <td>14.8</td>\n",
       "      <td>212.0</td>\n",
       "      <td>5200.0</td>\n",
       "      <td>FEMALE</td>\n",
       "    </tr>\n",
       "    <tr>\n",
       "      <th>343</th>\n",
       "      <td>49.9</td>\n",
       "      <td>16.1</td>\n",
       "      <td>213.0</td>\n",
       "      <td>5400.0</td>\n",
       "      <td>MALE</td>\n",
       "    </tr>\n",
       "  </tbody>\n",
       "</table>\n",
       "<p>335 rows × 5 columns</p>\n",
       "</div>"
      ],
      "text/plain": [
       "     culmen_length_mm  culmen_depth_mm  flipper_length_mm  body_mass_g     sex\n",
       "0                39.1             18.7              181.0       3750.0    MALE\n",
       "1                39.5             17.4              186.0       3800.0  FEMALE\n",
       "2                40.3             18.0              195.0       3250.0  FEMALE\n",
       "4                36.7             19.3              193.0       3450.0  FEMALE\n",
       "5                39.3             20.6              190.0       3650.0    MALE\n",
       "..                ...              ...                ...          ...     ...\n",
       "338              47.2             13.7              214.0       4925.0  FEMALE\n",
       "340              46.8             14.3              215.0       4850.0  FEMALE\n",
       "341              50.4             15.7              222.0       5750.0    MALE\n",
       "342              45.2             14.8              212.0       5200.0  FEMALE\n",
       "343              49.9             16.1              213.0       5400.0    MALE\n",
       "\n",
       "[335 rows x 5 columns]"
      ]
     },
     "execution_count": 6,
     "metadata": {},
     "output_type": "execute_result"
    }
   ],
   "source": [
    "df"
   ]
  },
  {
   "cell_type": "code",
   "execution_count": 7,
   "metadata": {},
   "outputs": [
    {
     "data": {
      "image/png": "[encoded data removed]",
      "text/plain": [
       "<Figure size 640x480 with 1 Axes>"
      ]
     },
     "metadata": {},
     "output_type": "display_data"
    }
   ],
   "source": [
    "# check outliers\n",
    "df.boxplot()\n",
    "plt.show()"
   ]
  },
  {
   "cell_type": "code",
   "execution_count": 8,
   "metadata": {},
   "outputs": [],
   "source": [
    "# get q1 and q3, and also iqr\n",
    "q1 = df['flipper_length_mm'].quantile(0.25)\n",
    "q3 = df['flipper_length_mm'].quantile(0.75)\n",
    "iqr = q3 - q1"
   ]
  },
  {
   "cell_type": "code",
   "execution_count": 9,
   "metadata": {},
   "outputs": [
    {
     "data": {
      "image/png": "[encoded data removed]",
      "text/plain": [
       "<Figure size 640x480 with 1 Axes>"
      ]
     },
     "metadata": {},
     "output_type": "display_data"
    }
   ],
   "source": [
    "# Create a boolean mask to identify rows with outliers in 'Salary'\n",
    "is_outlier = (df['flipper_length_mm'] < (q1 - 1.5 * iqr)) | (df['flipper_length_mm'] > (q3 + 1.5 * iqr))\n",
    "\n",
    "# Drop rows with outliers (optional)\n",
    "df_filtered = df[~is_outlier]\n",
    "\n",
    "df_filtered.boxplot()\n",
    "plt.show()\n"
   ]
  },
  {
   "cell_type": "markdown",
   "metadata": {},
   "source": [
    "# **LETS GO MODELLING**"
   ]
  },
  {
   "cell_type": "code",
   "execution_count": 10,
   "metadata": {},
   "outputs": [
    {
     "data": {
      "text/html": [
       "<div>\n",
       "<style scoped>\n",
       "    .dataframe tbody tr th:only-of-type {\n",
       "        vertical-align: middle;\n",
       "    }\n",
       "\n",
       "    .dataframe tbody tr th {\n",
       "        vertical-align: top;\n",
       "    }\n",
       "\n",
       "    .dataframe thead th {\n",
       "        text-align: right;\n",
       "    }\n",
       "</style>\n",
       "<table border=\"1\" class=\"dataframe\">\n",
       "  <thead>\n",
       "    <tr style=\"text-align: right;\">\n",
       "      <th></th>\n",
       "      <th>culmen_length_mm</th>\n",
       "      <th>culmen_depth_mm</th>\n",
       "      <th>flipper_length_mm</th>\n",
       "      <th>body_mass_g</th>\n",
       "      <th>sex</th>\n",
       "    </tr>\n",
       "  </thead>\n",
       "  <tbody>\n",
       "    <tr>\n",
       "      <th>0</th>\n",
       "      <td>39.1</td>\n",
       "      <td>18.7</td>\n",
       "      <td>181.0</td>\n",
       "      <td>3750.0</td>\n",
       "      <td>MALE</td>\n",
       "    </tr>\n",
       "    <tr>\n",
       "      <th>1</th>\n",
       "      <td>39.5</td>\n",
       "      <td>17.4</td>\n",
       "      <td>186.0</td>\n",
       "      <td>3800.0</td>\n",
       "      <td>FEMALE</td>\n",
       "    </tr>\n",
       "    <tr>\n",
       "      <th>2</th>\n",
       "      <td>40.3</td>\n",
       "      <td>18.0</td>\n",
       "      <td>195.0</td>\n",
       "      <td>3250.0</td>\n",
       "      <td>FEMALE</td>\n",
       "    </tr>\n",
       "    <tr>\n",
       "      <th>4</th>\n",
       "      <td>36.7</td>\n",
       "      <td>19.3</td>\n",
       "      <td>193.0</td>\n",
       "      <td>3450.0</td>\n",
       "      <td>FEMALE</td>\n",
       "    </tr>\n",
       "    <tr>\n",
       "      <th>5</th>\n",
       "      <td>39.3</td>\n",
       "      <td>20.6</td>\n",
       "      <td>190.0</td>\n",
       "      <td>3650.0</td>\n",
       "      <td>MALE</td>\n",
       "    </tr>\n",
       "    <tr>\n",
       "      <th>...</th>\n",
       "      <td>...</td>\n",
       "      <td>...</td>\n",
       "      <td>...</td>\n",
       "      <td>...</td>\n",
       "      <td>...</td>\n",
       "    </tr>\n",
       "    <tr>\n",
       "      <th>338</th>\n",
       "      <td>47.2</td>\n",
       "      <td>13.7</td>\n",
       "      <td>214.0</td>\n",
       "      <td>4925.0</td>\n",
       "      <td>FEMALE</td>\n",
       "    </tr>\n",
       "    <tr>\n",
       "      <th>340</th>\n",
       "      <td>46.8</td>\n",
       "      <td>14.3</td>\n",
       "      <td>215.0</td>\n",
       "      <td>4850.0</td>\n",
       "      <td>FEMALE</td>\n",
       "    </tr>\n",
       "    <tr>\n",
       "      <th>341</th>\n",
       "      <td>50.4</td>\n",
       "      <td>15.7</td>\n",
       "      <td>222.0</td>\n",
       "      <td>5750.0</td>\n",
       "      <td>MALE</td>\n",
       "    </tr>\n",
       "    <tr>\n",
       "      <th>342</th>\n",
       "      <td>45.2</td>\n",
       "      <td>14.8</td>\n",
       "      <td>212.0</td>\n",
       "      <td>5200.0</td>\n",
       "      <td>FEMALE</td>\n",
       "    </tr>\n",
       "    <tr>\n",
       "      <th>343</th>\n",
       "      <td>49.9</td>\n",
       "      <td>16.1</td>\n",
       "      <td>213.0</td>\n",
       "      <td>5400.0</td>\n",
       "      <td>MALE</td>\n",
       "    </tr>\n",
       "  </tbody>\n",
       "</table>\n",
       "<p>335 rows × 5 columns</p>\n",
       "</div>"
      ],
      "text/plain": [
       "     culmen_length_mm  culmen_depth_mm  flipper_length_mm  body_mass_g     sex\n",
       "0                39.1             18.7              181.0       3750.0    MALE\n",
       "1                39.5             17.4              186.0       3800.0  FEMALE\n",
       "2                40.3             18.0              195.0       3250.0  FEMALE\n",
       "4                36.7             19.3              193.0       3450.0  FEMALE\n",
       "5                39.3             20.6              190.0       3650.0    MALE\n",
       "..                ...              ...                ...          ...     ...\n",
       "338              47.2             13.7              214.0       4925.0  FEMALE\n",
       "340              46.8             14.3              215.0       4850.0  FEMALE\n",
       "341              50.4             15.7              222.0       5750.0    MALE\n",
       "342              45.2             14.8              212.0       5200.0  FEMALE\n",
       "343              49.9             16.1              213.0       5400.0    MALE\n",
       "\n",
       "[335 rows x 5 columns]"
      ]
     },
     "execution_count": 10,
     "metadata": {},
     "output_type": "execute_result"
    }
   ],
   "source": [
    "df"
   ]
  },
  {
   "cell_type": "code",
   "execution_count": 11,
   "metadata": {},
   "outputs": [
    {
     "name": "stdout",
     "output_type": "stream",
     "text": [
      "numerical data from this dataset is : \n",
      "      culmen_length_mm  culmen_depth_mm  flipper_length_mm  body_mass_g\n",
      "0                39.1             18.7              181.0       3750.0\n",
      "1                39.5             17.4              186.0       3800.0\n",
      "2                40.3             18.0              195.0       3250.0\n",
      "4                36.7             19.3              193.0       3450.0\n",
      "5                39.3             20.6              190.0       3650.0\n",
      "..                ...              ...                ...          ...\n",
      "338              47.2             13.7              214.0       4925.0\n",
      "340              46.8             14.3              215.0       4850.0\n",
      "341              50.4             15.7              222.0       5750.0\n",
      "342              45.2             14.8              212.0       5200.0\n",
      "343              49.9             16.1              213.0       5400.0\n",
      "\n",
      "[335 rows x 4 columns]\n",
      "categorical data from this dataset is : \n",
      "         sex\n",
      "0      MALE\n",
      "1    FEMALE\n",
      "2    FEMALE\n",
      "4    FEMALE\n",
      "5      MALE\n",
      "..      ...\n",
      "338  FEMALE\n",
      "340  FEMALE\n",
      "341    MALE\n",
      "342  FEMALE\n",
      "343    MALE\n",
      "\n",
      "[335 rows x 1 columns]\n"
     ]
    }
   ],
   "source": [
    "df_numerical = df.select_dtypes(include=[np.number])  # Select numerical columns\n",
    "df_categorical = df.select_dtypes(include=[object])  # Select categorical columns (strings)\n",
    "\n",
    "print('numerical data from this dataset is : \\n', df_numerical)\n",
    "print('categorical data from this dataset is : \\n', df_categorical)"
   ]
  },
  {
   "cell_type": "code",
   "execution_count": 12,
   "metadata": {},
   "outputs": [
    {
     "name": "stdout",
     "output_type": "stream",
     "text": [
      "          0         1         2         3\n",
      "0  0.254545  0.666667  0.060990  0.291667\n",
      "1  0.269091  0.511905  0.061964  0.305556\n",
      "2  0.298182  0.583333  0.063718  0.152778\n",
      "3  0.167273  0.738095  0.063328  0.208333\n",
      "4  0.261818  0.892857  0.062744  0.263889\n"
     ]
    }
   ],
   "source": [
    "# normalize data\n",
    "scaler = MinMaxScaler(feature_range=(0, 1))  # Adjust range if needed (e.g., (-1, 1))\n",
    "df_scaled = pd.DataFrame(scaler.fit_transform(df_numerical))  # Transform the data\n",
    "\n",
    "print(df_scaled.head())  # View the scaled DataFrame\n"
   ]
  },
  {
   "cell_type": "code",
   "execution_count": 13,
   "metadata": {},
   "outputs": [],
   "source": [
    "X = df_scaled\n",
    "y = df['sex']"
   ]
  },
  {
   "cell_type": "code",
   "execution_count": 18,
   "metadata": {},
   "outputs": [
    {
     "name": "stdout",
     "output_type": "stream",
     "text": [
      "model accuration is : 0.746268656716418\n"
     ]
    }
   ],
   "source": [
    "X_train, X_test, y_train, y_test = train_test_split(X, y, test_size=0.2, random_state=42)\n",
    "\n",
    "# naive bayes model\n",
    "model = GaussianNB()\n",
    "\n",
    "# train the model\n",
    "model.fit(X_train, y_train)\n",
    "\n",
    "# predict model with testing data\n",
    "predicted_y = model.predict(X_test)\n",
    "\n",
    "# Contoh: Hitung akurasi\n",
    "from sklearn.metrics import accuracy_score\n",
    "accuracy = accuracy_score(y_test, predicted_y)\n",
    "print('model accuration is :', accuracy)"
   ]
  },
  {
   "cell_type": "code",
   "execution_count": 19,
   "metadata": {},
   "outputs": [
    {
     "name": "stdout",
     "output_type": "stream",
     "text": [
      "              precision    recall  f1-score   support\n",
      "\n",
      "      FEMALE       0.68      0.94      0.79        34\n",
      "        MALE       0.90      0.55      0.68        33\n",
      "\n",
      "    accuracy                           0.75        67\n",
      "   macro avg       0.79      0.74      0.73        67\n",
      "weighted avg       0.79      0.75      0.74        67\n",
      "\n",
      "confusion matrix of this analysis is: \n",
      " [[32  2]\n",
      " [15 18]]\n",
      "actual value vs predicted value: \n",
      "     actual value predicted value\n",
      "29          MALE          FEMALE\n",
      "114       FEMALE            MALE\n",
      "81          MALE          FEMALE\n",
      "201       FEMALE          FEMALE\n",
      "62        FEMALE          FEMALE\n",
      "261         MALE            MALE\n",
      "187       FEMALE          FEMALE\n",
      "186         MALE          FEMALE\n",
      "280       FEMALE          FEMALE\n",
      "203         MALE            MALE\n",
      "77          MALE          FEMALE\n",
      "13          MALE            MALE\n",
      "277         MALE            MALE\n",
      "323         MALE            MALE\n",
      "177         MALE            MALE\n",
      "207         MALE            MALE\n",
      "80        FEMALE          FEMALE\n",
      "326       FEMALE          FEMALE\n",
      "82        FEMALE          FEMALE\n",
      "332       FEMALE          FEMALE\n",
      "116       FEMALE          FEMALE\n",
      "243         MALE            MALE\n",
      "148       FEMALE          FEMALE\n",
      "333         MALE            MALE\n",
      "6         FEMALE          FEMALE\n",
      "152       FEMALE          FEMALE\n",
      "68        FEMALE          FEMALE\n",
      "119         MALE          FEMALE\n",
      "144       FEMALE          FEMALE\n",
      "106       FEMALE          FEMALE\n",
      "99          MALE          FEMALE\n",
      "289         MALE            MALE\n",
      "4         FEMALE          FEMALE\n",
      "230       FEMALE          FEMALE\n",
      "224         MALE            MALE\n",
      "317       FEMALE            MALE\n",
      "188       FEMALE          FEMALE\n",
      "309         MALE            MALE\n",
      "145         MALE          FEMALE\n",
      "233         MALE            MALE\n",
      "37        FEMALE          FEMALE\n",
      "46          MALE          FEMALE\n",
      "178       FEMALE          FEMALE\n",
      "129         MALE          FEMALE\n",
      "338       FEMALE          FEMALE\n",
      "51          MALE          FEMALE\n",
      "78        FEMALE          FEMALE\n",
      "184       FEMALE          FEMALE\n",
      "50        FEMALE          FEMALE\n",
      "190       FEMALE          FEMALE\n",
      "321         MALE            MALE\n",
      "170       FEMALE          FEMALE\n",
      "95          MALE          FEMALE\n",
      "162       FEMALE          FEMALE\n",
      "266       FEMALE          FEMALE\n",
      "20        FEMALE          FEMALE\n",
      "87        FEMALE          FEMALE\n",
      "137         MALE          FEMALE\n",
      "9           MALE            MALE\n",
      "60        FEMALE          FEMALE\n",
      "115         MALE          FEMALE\n",
      "89        FEMALE          FEMALE\n",
      "305         MALE            MALE\n",
      "301         MALE            MALE\n",
      "121         MALE          FEMALE\n",
      "83          MALE          FEMALE\n",
      "250         MALE            MALE\n"
     ]
    }
   ],
   "source": [
    "pd.set_option('display.max_rows', None)\n",
    "from sklearn.metrics import confusion_matrix, classification_report\n",
    "result = pd.DataFrame({'actual value': y_test, 'predicted value': predicted_y})\n",
    "matrix = confusion_matrix(y_test, predicted_y)\n",
    "\n",
    "print(classification_report(y_test, predicted_y))\n",
    "print('confusion matrix of this analysis is: \\n', matrix)\n",
    "print('actual value vs predicted value: \\n', result)"
   ]
  }
 ],
 "metadata": {
  "kernelspec": {
   "display_name": "Python 3",
   "language": "python",
   "name": "python3"
  },
  "language_info": {
   "codemirror_mode": {
    "name": "ipython",
    "version": 3
   },
   "file_extension": ".py",
   "mimetype": "text/x-python",
   "name": "python",
   "nbconvert_exporter": "python",
   "pygments_lexer": "ipython3",
   "version": "3.10.11"
  }
 },
 "nbformat": 4,
 "nbformat_minor": 2
}
